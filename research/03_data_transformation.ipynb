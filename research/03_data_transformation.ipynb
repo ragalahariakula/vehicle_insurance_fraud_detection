{
 "cells": [
  {
   "cell_type": "code",
   "execution_count": 1,
   "metadata": {},
   "outputs": [],
   "source": [
    "import os"
   ]
  },
  {
   "cell_type": "code",
   "execution_count": 2,
   "metadata": {},
   "outputs": [
    {
     "data": {
      "text/plain": [
       "'d:\\\\vehicle_insurance_fraud_detection\\\\research'"
      ]
     },
     "execution_count": 2,
     "metadata": {},
     "output_type": "execute_result"
    }
   ],
   "source": [
    "%pwd"
   ]
  },
  {
   "cell_type": "code",
   "execution_count": 3,
   "metadata": {},
   "outputs": [],
   "source": [
    "os.chdir(\"../\")"
   ]
  },
  {
   "cell_type": "code",
   "execution_count": 4,
   "metadata": {},
   "outputs": [
    {
     "data": {
      "text/plain": [
       "'d:\\\\vehicle_insurance_fraud_detection'"
      ]
     },
     "execution_count": 4,
     "metadata": {},
     "output_type": "execute_result"
    }
   ],
   "source": [
    "%pwd"
   ]
  },
  {
   "cell_type": "code",
   "execution_count": 35,
   "metadata": {},
   "outputs": [],
   "source": [
    "from dataclasses import dataclass\n",
    "from pathlib import Path \n",
    "\n",
    "@dataclass(frozen=True)\n",
    "class DataTransformationConfig:\n",
    "    root_dir: Path\n",
    "    data_path: Path "
   ]
  },
  {
   "cell_type": "code",
   "execution_count": 36,
   "metadata": {},
   "outputs": [],
   "source": [
    "from src.vifd.constants import *\n",
    "from src.vifd.utils.common import read_yaml, create_directories"
   ]
  },
  {
   "cell_type": "code",
   "execution_count": 37,
   "metadata": {},
   "outputs": [],
   "source": [
    "class ConfigurationManager:\n",
    "    def __init__(\n",
    "            self,\n",
    "            config_filepath=CONFIG_FILE_PATH,\n",
    "            params_filepath=CONFIG_FILE_PATH,\n",
    "            schema_filepath=SCHEMA_FILE_PATH\n",
    "    ):\n",
    "        self.config = read_yaml(config_filepath)\n",
    "        self.params = read_yaml(params_filepath)\n",
    "        self.schema = read_yaml(schema_filepath)\n",
    "\n",
    "        create_directories([self.config.artifacts_root])\n",
    "\n",
    "    def get_data_transformation_config(self) -> DataTransformationConfig:\n",
    "        config = self.config.data_transformation\n",
    "\n",
    "        create_directories([config.root_dir])\n",
    "\n",
    "        data_transformation_config = DataTransformationConfig(\n",
    "            root_dir=config.root_dir,\n",
    "            data_path=config.data_path,\n",
    "        )\n",
    "\n",
    "        return data_transformation_config\n",
    "    "
   ]
  },
  {
   "cell_type": "code",
   "execution_count": 38,
   "metadata": {},
   "outputs": [],
   "source": [
    "import os\n",
    "from src.vifd import logger\n",
    "from sklearn.preprocessing import StandardScaler\n",
    "from sklearn.preprocessing import OneHotEncoder\n",
    "from sklearn.model_selection import train_test_split\n",
    "import pandas as pd\n",
    "import numpy as np\n",
    "from imblearn.over_sampling import SMOTENC"
   ]
  },
  {
   "cell_type": "code",
   "execution_count": 43,
   "metadata": {},
   "outputs": [],
   "source": [
    "class DataTransformation:\n",
    "    def __init__(self, config):\n",
    "        self.config = config\n",
    "\n",
    "    def load_data(self):\n",
    "        data = pd.read_csv(self.config.data_path)\n",
    "        return data\n",
    "\n",
    "    def encode_categorical_columns(self, data):\n",
    "        categorical_columns = ['policy_state', 'policy_csl', 'incident_type',\n",
    "                                'incident_severity', 'authorities_contacted',\n",
    "                                'incident_state', 'incident_city',\n",
    "                                'police_report_available', 'auto_make', 'auto_model', 'fraud_reported']\n",
    "\n",
    "        enc = OneHotEncoder(handle_unknown='ignore', drop='first')\n",
    "        cat_enc_data = pd.DataFrame(enc.fit_transform(data[categorical_columns]).toarray())\n",
    "        cat_enc_data.columns = enc.get_feature_names_out()\n",
    "        return cat_enc_data\n",
    "\n",
    "    def preprocess_data(self, data, cat_enc_data):\n",
    "        numerical_columns = ['months_as_customer', 'policy_deductable', 'policy_annual_premium',\n",
    "                              'umbrella_limit', 'number_of_vehicles_involved', 'bodily_injuries',\n",
    "                              'witnesses', 'total_claim_amount', 'injury_claim', 'property_claim',\n",
    "                              'vehicle_claim', 'auto_year']\n",
    "\n",
    "        df = pd.concat([data[numerical_columns], cat_enc_data], axis=1)\n",
    "        df.dropna(inplace=True)\n",
    "        return df\n",
    "\n",
    "    def scale_numerical_features(self, X_train, X_test, numerical_columns):\n",
    "        scaler = StandardScaler()\n",
    "        X_train_scaled = pd.DataFrame(scaler.fit_transform(X_train[numerical_columns]),\n",
    "                                      columns=numerical_columns, index=X_train.index)\n",
    "        X_test_scaled = pd.DataFrame(scaler.fit_transform(X_test[numerical_columns]),\n",
    "                                     columns=numerical_columns, index=X_test.index)\n",
    "\n",
    "        for col in numerical_columns:\n",
    "            X_train[col] = X_train_scaled[col]\n",
    "            X_test[col] = X_test_scaled[col]\n",
    "\n",
    "    def train_test_split(self, df):\n",
    "        X = df.drop('fraud_reported_Y', axis=1)\n",
    "        y = df['fraud_reported_Y']\n",
    "        X_train, X_test, y_train, y_test = train_test_split(X, y, test_size=0.3, random_state=42, stratify=y)\n",
    "        return X_train, X_test, y_train, y_test\n",
    "\n",
    "    def save_data(self, X_train, X_test, y_train, y_test, part_name):\n",
    "        X_train.to_csv(os.path.join(self.config.root_dir, f\"{part_name}_X_train.csv\"), index=False)\n",
    "        X_test.to_csv(os.path.join(self.config.root_dir, f\"{part_name}_X_test.csv\"), index=False)\n",
    "        y_train.to_csv(os.path.join(self.config.root_dir, f\"{part_name}_y_train.csv\"), index=False)\n",
    "        y_test.to_csv(os.path.join(self.config.root_dir, f\"{part_name}_y_test.csv\"), index=False)\n",
    "\n",
    "    def train_test_splitting(self):\n",
    "        try:\n",
    "            data = self.load_data()\n",
    "            cat_enc_data = self.encode_categorical_columns(data)\n",
    "            df = self.preprocess_data(data, cat_enc_data)\n",
    "\n",
    "            numerical_columns = ['months_as_customer', 'policy_deductable', 'policy_annual_premium',\n",
    "                                  'umbrella_limit', 'number_of_vehicles_involved', 'bodily_injuries',\n",
    "                                  'witnesses', 'total_claim_amount', 'injury_claim', 'property_claim',\n",
    "                                  'vehicle_claim', 'auto_year']\n",
    "\n",
    "            X_train, X_test, y_train, y_test = self.train_test_split(df)\n",
    "\n",
    "            self.scale_numerical_features(X_train, X_test, numerical_columns)\n",
    "\n",
    "            self.save_data(X_train, X_test, y_train, y_test, \"split\")\n",
    "            \n",
    "            sm = SMOTENC(categorical_features=np.arange(80, 90), random_state=123, sampling_strategy=.6)\n",
    "\n",
    "            X_train_re, y_train_re = sm.fit_resample(X_train, y_train)\n",
    "\n",
    "            self.save_data(X_train_re, X_test, y_train_re, y_test, \"balanced_split\")\n",
    "\n",
    "            logger.info(\"Data split and balanced successfully.\")\n",
    "        except Exception as e:\n",
    "            raise e\n"
   ]
  },
  {
   "cell_type": "code",
   "execution_count": 44,
   "metadata": {},
   "outputs": [
    {
     "name": "stdout",
     "output_type": "stream",
     "text": [
      "[2024-01-01 03:09:58,019: INFO: common: yaml file: config\\config.yaml loaded successfully]\n",
      "[2024-01-01 03:09:58,019: INFO: common: yaml file: config\\config.yaml loaded successfully]\n",
      "[2024-01-01 03:09:58,027: INFO: common: yaml file: schema.yaml loaded successfully]\n",
      "[2024-01-01 03:09:58,029: INFO: common: created directory at: artifacts]\n",
      "[2024-01-01 03:09:58,031: INFO: common: created directory at: artifacts/data_transformation]\n",
      "[2024-01-01 03:09:58,226: INFO: 429273344: Data split and balanced successfully.]\n"
     ]
    },
    {
     "name": "stderr",
     "output_type": "stream",
     "text": [
      "c:\\Users\\Lahari\\PythonIDLE\\Lib\\site-packages\\imblearn\\over_sampling\\_smote\\base.py:582: FutureWarning: elementwise comparison failed; returning scalar instead, but in the future will perform elementwise comparison\n",
      "  if self.categorical_features == \"auto\":\n"
     ]
    }
   ],
   "source": [
    "try:\n",
    "    config = ConfigurationManager()\n",
    "    data_transformation_config = config.get_data_transformation_config()\n",
    "    data_transformation = DataTransformation(config=data_transformation_config)\n",
    "    data_transformation.train_test_splitting()\n",
    "\n",
    "except Exception as e:\n",
    "    raise e"
   ]
  },
  {
   "cell_type": "code",
   "execution_count": null,
   "metadata": {},
   "outputs": [],
   "source": []
  }
 ],
 "metadata": {
  "kernelspec": {
   "display_name": "Python 3",
   "language": "python",
   "name": "python3"
  },
  "language_info": {
   "codemirror_mode": {
    "name": "ipython",
    "version": 3
   },
   "file_extension": ".py",
   "mimetype": "text/x-python",
   "name": "python",
   "nbconvert_exporter": "python",
   "pygments_lexer": "ipython3",
   "version": "3.11.4"
  }
 },
 "nbformat": 4,
 "nbformat_minor": 2
}
